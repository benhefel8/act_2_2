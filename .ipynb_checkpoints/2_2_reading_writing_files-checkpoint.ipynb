{
 "cells": [
  {
   "cell_type": "markdown",
   "metadata": {},
   "source": [
    "## Before we start, here is some weird code ..."
   ]
  },
  {
   "cell_type": "code",
   "execution_count": 17,
   "metadata": {},
   "outputs": [
    {
     "data": {
      "text/plain": [
       "[[5, 5, 5], [5, 5, 5], [5, 5, 5]]"
      ]
     },
     "execution_count": 17,
     "metadata": {},
     "output_type": "execute_result"
    }
   ],
   "source": [
    "a = 5\n",
    "b = 3*[a]\n",
    "c = [b, b, b]\n",
    "\n",
    "c"
   ]
  },
  {
   "cell_type": "code",
   "execution_count": 18,
   "metadata": {},
   "outputs": [
    {
     "data": {
      "text/plain": [
       "[[5, 5, 5], [5, 5, 5], [5, 5, 5]]"
      ]
     },
     "execution_count": 18,
     "metadata": {},
     "output_type": "execute_result"
    }
   ],
   "source": [
    "a = 4\n",
    "c"
   ]
  },
  {
   "cell_type": "code",
   "execution_count": 19,
   "metadata": {},
   "outputs": [
    {
     "data": {
      "text/plain": [
       "[[4, 5, 5], [4, 5, 5], [4, 5, 5]]"
      ]
     },
     "execution_count": 19,
     "metadata": {},
     "output_type": "execute_result"
    }
   ],
   "source": [
    "b[0] = 4\n",
    "c"
   ]
  },
  {
   "cell_type": "markdown",
   "metadata": {},
   "source": [
    "#### What the heck happened here?\n",
    "\n",
    "- My old answer: Draw diagrams and take about mutation and pointers\n",
    "- My (functional) answer: who cares."
   ]
  },
  {
   "cell_type": "markdown",
   "metadata": {
    "slideshow": {
     "slide_type": "slide"
    }
   },
   "source": [
    "# File handler object and opening and closing files\n",
    "\n",
    "* `open` creates a file handler\n",
    "    * Not the file itself\n",
    "    * used to read and write\n",
    "* Needs proper handling\n",
    "    * open\n",
    "    * close\n",
    "    * flush\n",
    "    "
   ]
  },
  {
   "cell_type": "code",
   "execution_count": 1,
   "metadata": {
    "collapsed": false,
    "jupyter": {
     "outputs_hidden": false
    },
    "slideshow": {
     "slide_type": "slide"
    }
   },
   "outputs": [],
   "source": [
    "# read ('r') is the default mode\n",
    "f = open('./data/Batting.csv')"
   ]
  },
  {
   "cell_type": "code",
   "execution_count": 2,
   "metadata": {
    "collapsed": false,
    "jupyter": {
     "outputs_hidden": false
    },
    "slideshow": {
     "slide_type": "slide"
    }
   },
   "outputs": [
    {
     "data": {
      "text/plain": [
       "_io.TextIOWrapper"
      ]
     },
     "execution_count": 2,
     "metadata": {},
     "output_type": "execute_result"
    }
   ],
   "source": [
    "type(f)"
   ]
  },
  {
   "cell_type": "code",
   "execution_count": 3,
   "metadata": {
    "collapsed": false,
    "jupyter": {
     "outputs_hidden": false
    },
    "slideshow": {
     "slide_type": "slide"
    }
   },
   "outputs": [
    {
     "data": {
      "text/plain": [
       "<_io.TextIOWrapper name='./data/Batting.csv' mode='r' encoding='UTF-8'>"
      ]
     },
     "execution_count": 3,
     "metadata": {},
     "output_type": "execute_result"
    }
   ],
   "source": [
    "f"
   ]
  },
  {
   "cell_type": "code",
   "execution_count": 4,
   "metadata": {
    "collapsed": false,
    "jupyter": {
     "outputs_hidden": false
    },
    "slideshow": {
     "slide_type": "fragment"
    }
   },
   "outputs": [],
   "source": [
    "lines = f.readlines()\n",
    "f.close()"
   ]
  },
  {
   "cell_type": "code",
   "execution_count": 5,
   "metadata": {
    "collapsed": false,
    "jupyter": {
     "outputs_hidden": false
    },
    "slideshow": {
     "slide_type": "fragment"
    }
   },
   "outputs": [
    {
     "data": {
      "text/plain": [
       "['playerID,yearID,stint,teamID,lgID,G,AB,R,H,2B,3B,HR,RBI,SB,CS,BB,SO,IBB,HBP,SH,SF,GIDP\\n',\n",
       " 'abercda01,1871,1,TRO,NA,1,4,0,0,0,0,0,0,0,0,0,0,,,,,0\\n',\n",
       " 'addybo01,1871,1,RC1,NA,25,118,30,32,6,0,0,13,8,1,4,0,,,,,0\\n',\n",
       " 'allisar01,1871,1,CL1,NA,29,137,28,40,4,5,0,19,3,1,2,5,,,,,1\\n',\n",
       " 'allisdo01,1871,1,WS3,NA,27,133,28,44,10,2,2,27,1,1,0,2,,,,,0\\n',\n",
       " 'ansonca01,1871,1,RC1,NA,25,120,29,39,11,3,0,16,6,2,2,1,,,,,0\\n',\n",
       " 'armstbo01,1871,1,FW1,NA,12,49,9,11,2,1,0,5,0,1,0,1,,,,,0\\n',\n",
       " 'barkeal01,1871,1,RC1,NA,1,4,0,1,0,0,0,2,0,0,1,0,,,,,0\\n',\n",
       " 'barnero01,1871,1,BS1,NA,31,157,66,63,10,9,0,34,11,6,13,1,,,,,1\\n',\n",
       " 'barrebi01,1871,1,FW1,NA,1,5,1,1,1,0,0,1,0,0,0,0,,,,,0\\n']"
      ]
     },
     "execution_count": 5,
     "metadata": {},
     "output_type": "execute_result"
    }
   ],
   "source": [
    "lines[:10]"
   ]
  },
  {
   "cell_type": "markdown",
   "metadata": {
    "slideshow": {
     "slide_type": "slide"
    }
   },
   "source": [
    "## Using the `with` statement to abstract context management\n",
    "\n",
    "* opening and closing is *context management*\n",
    "* Automate this with ``with``\n",
    "    * safe and **important**"
   ]
  },
  {
   "cell_type": "markdown",
   "metadata": {},
   "source": [
    "#### Reading the whole file as a single string with `read`"
   ]
  },
  {
   "cell_type": "code",
   "execution_count": 7,
   "metadata": {
    "collapsed": false,
    "jupyter": {
     "outputs_hidden": false
    },
    "slideshow": {
     "slide_type": "slide"
    }
   },
   "outputs": [
    {
     "data": {
      "text/plain": [
       "'playerID,yearID,stint,teamID,lgID,G,AB,R,H,2B,3B,HR,RBI,SB,CS,BB,SO,IBB,HBP,SH,SF,GIDP\\nabercda01,1871,1,TRO,NA,1,4,0,0,0,0,0,0,0,0,0,0,,,,,0\\naddybo01,1871,1,RC1,NA,25,118,30,32,6,0,0,13,8,1,4,0,,,,,0\\nallisar01,1871,1,CL1,NA,29,137,28,40,4,5,0,19,3,1,2,5,,,,,1\\nallisdo01,1871,1,WS3,NA,27,133,28,44,10,2,2,27,1,1,0,2,,,,,0\\nansonca01,1871,1,RC1,NA,25,120,29,39,11,3,0,16,6,2,2,1,,,,,0\\narmstbo01,1871,1,FW1,NA,12,49,9,11,2,1,0,5,0,1,0,1,,,,,0\\nbarkeal01,1871,1,RC1,NA,1,4,0,1,0,0,0,2,0,0,1,0,,,,,0\\nbarnero01,1871,1,BS1,NA,31,157,66,63,10,9,0,34,11,6,13,1,,,,,1\\nbarrebi01,1871,1,FW1,NA,1,5,1,1,1,0,0,1,0,0,0,0,,,,,0\\nbarrofr01,1871,1,BS1,NA,18,86,13,13,2,1,0,11,1,0,0,0,,,,,0\\nbassjo01,1871,1,CL1,NA,22,89,18,27,1,10,3,18,0,1,3,4,,,,,0\\nbattijo01,1871,1,CL1,NA,1,3,0,0,0,0,0,0,0,0,1,0,,,,,0\\nbealsto01,1871,1,WS3,NA,10,36,6,7,0,0,0,1,2,0,2,0,,,,,2\\nbeaveed01,1871,1,TRO,NA,3,15,7,6,0,0,0,5,2,0,0,0,,,,,0\\nbechtge01,1871,1,PH1,NA,20,94,24,33,9,1,1,21,4,0,2,2,,,,,1\\nbellast01,1871,1,TRO,NA,29,128,26,32,3,3,0,23,4,'"
      ]
     },
     "execution_count": 7,
     "metadata": {},
     "output_type": "execute_result"
    }
   ],
   "source": [
    "with open('./data/Batting.csv') as f:\n",
    "    lines = f.read()\n",
    "lines[:1000]"
   ]
  },
  {
   "cell_type": "markdown",
   "metadata": {},
   "source": [
    "#### Reading as a list of lines with `readlines` [most useful]"
   ]
  },
  {
   "cell_type": "code",
   "execution_count": 8,
   "metadata": {
    "collapsed": false,
    "jupyter": {
     "outputs_hidden": false
    },
    "slideshow": {
     "slide_type": "slide"
    }
   },
   "outputs": [
    {
     "data": {
      "text/plain": [
       "['playerID,yearID,stint,teamID,lgID,G,AB,R,H,2B,3B,HR,RBI,SB,CS,BB,SO,IBB,HBP,SH,SF,GIDP\\n',\n",
       " 'abercda01,1871,1,TRO,NA,1,4,0,0,0,0,0,0,0,0,0,0,,,,,0\\n',\n",
       " 'addybo01,1871,1,RC1,NA,25,118,30,32,6,0,0,13,8,1,4,0,,,,,0\\n',\n",
       " 'allisar01,1871,1,CL1,NA,29,137,28,40,4,5,0,19,3,1,2,5,,,,,1\\n',\n",
       " 'allisdo01,1871,1,WS3,NA,27,133,28,44,10,2,2,27,1,1,0,2,,,,,0\\n',\n",
       " 'ansonca01,1871,1,RC1,NA,25,120,29,39,11,3,0,16,6,2,2,1,,,,,0\\n',\n",
       " 'armstbo01,1871,1,FW1,NA,12,49,9,11,2,1,0,5,0,1,0,1,,,,,0\\n',\n",
       " 'barkeal01,1871,1,RC1,NA,1,4,0,1,0,0,0,2,0,0,1,0,,,,,0\\n',\n",
       " 'barnero01,1871,1,BS1,NA,31,157,66,63,10,9,0,34,11,6,13,1,,,,,1\\n',\n",
       " 'barrebi01,1871,1,FW1,NA,1,5,1,1,1,0,0,1,0,0,0,0,,,,,0\\n']"
      ]
     },
     "execution_count": 8,
     "metadata": {},
     "output_type": "execute_result"
    }
   ],
   "source": [
    "with open('./data/Batting.csv') as f:\n",
    "    lines = f.readlines()\n",
    "lines[:10]"
   ]
  },
  {
   "cell_type": "markdown",
   "metadata": {
    "slideshow": {
     "slide_type": "slide"
    }
   },
   "source": [
    "## Manually splitting comma-separated lines"
   ]
  },
  {
   "cell_type": "code",
   "execution_count": 9,
   "metadata": {
    "collapsed": false,
    "jupyter": {
     "outputs_hidden": false
    },
    "slideshow": {
     "slide_type": "fragment"
    }
   },
   "outputs": [
    {
     "data": {
      "text/plain": [
       "[['playerID',\n",
       "  'yearID',\n",
       "  'stint',\n",
       "  'teamID',\n",
       "  'lgID',\n",
       "  'G',\n",
       "  'AB',\n",
       "  'R',\n",
       "  'H',\n",
       "  '2B',\n",
       "  '3B',\n",
       "  'HR',\n",
       "  'RBI',\n",
       "  'SB',\n",
       "  'CS',\n",
       "  'BB',\n",
       "  'SO',\n",
       "  'IBB',\n",
       "  'HBP',\n",
       "  'SH',\n",
       "  'SF',\n",
       "  'GIDP\\n'],\n",
       " ['abercda01',\n",
       "  '1871',\n",
       "  '1',\n",
       "  'TRO',\n",
       "  'NA',\n",
       "  '1',\n",
       "  '4',\n",
       "  '0',\n",
       "  '0',\n",
       "  '0',\n",
       "  '0',\n",
       "  '0',\n",
       "  '0',\n",
       "  '0',\n",
       "  '0',\n",
       "  '0',\n",
       "  '0',\n",
       "  '',\n",
       "  '',\n",
       "  '',\n",
       "  '',\n",
       "  '0\\n'],\n",
       " ['addybo01',\n",
       "  '1871',\n",
       "  '1',\n",
       "  'RC1',\n",
       "  'NA',\n",
       "  '25',\n",
       "  '118',\n",
       "  '30',\n",
       "  '32',\n",
       "  '6',\n",
       "  '0',\n",
       "  '0',\n",
       "  '13',\n",
       "  '8',\n",
       "  '1',\n",
       "  '4',\n",
       "  '0',\n",
       "  '',\n",
       "  '',\n",
       "  '',\n",
       "  '',\n",
       "  '0\\n'],\n",
       " ['allisar01',\n",
       "  '1871',\n",
       "  '1',\n",
       "  'CL1',\n",
       "  'NA',\n",
       "  '29',\n",
       "  '137',\n",
       "  '28',\n",
       "  '40',\n",
       "  '4',\n",
       "  '5',\n",
       "  '0',\n",
       "  '19',\n",
       "  '3',\n",
       "  '1',\n",
       "  '2',\n",
       "  '5',\n",
       "  '',\n",
       "  '',\n",
       "  '',\n",
       "  '',\n",
       "  '1\\n'],\n",
       " ['allisdo01',\n",
       "  '1871',\n",
       "  '1',\n",
       "  'WS3',\n",
       "  'NA',\n",
       "  '27',\n",
       "  '133',\n",
       "  '28',\n",
       "  '44',\n",
       "  '10',\n",
       "  '2',\n",
       "  '2',\n",
       "  '27',\n",
       "  '1',\n",
       "  '1',\n",
       "  '0',\n",
       "  '2',\n",
       "  '',\n",
       "  '',\n",
       "  '',\n",
       "  '',\n",
       "  '0\\n']]"
      ]
     },
     "execution_count": 9,
     "metadata": {},
     "output_type": "execute_result"
    }
   ],
   "source": [
    "split_lines = [line.split(',') for line in lines]\n",
    "split_lines[:5]"
   ]
  },
  {
   "cell_type": "markdown",
   "metadata": {
    "slideshow": {
     "slide_type": "slide"
    }
   },
   "source": [
    "## Processing csv files with `csv.reader`\n",
    "\n",
    "* Stores each row as a list of strings,\n",
    "* Header is the first row/entry\n",
    "* Automatically splits files\n",
    "* defaults to `delimit = ','`"
   ]
  },
  {
   "cell_type": "code",
   "execution_count": 10,
   "metadata": {
    "collapsed": false,
    "jupyter": {
     "outputs_hidden": false
    },
    "scrolled": true,
    "slideshow": {
     "slide_type": "fragment"
    }
   },
   "outputs": [
    {
     "data": {
      "text/plain": [
       "[['playerID',\n",
       "  'yearID',\n",
       "  'stint',\n",
       "  'teamID',\n",
       "  'lgID',\n",
       "  'G',\n",
       "  'AB',\n",
       "  'R',\n",
       "  'H',\n",
       "  '2B',\n",
       "  '3B',\n",
       "  'HR',\n",
       "  'RBI',\n",
       "  'SB',\n",
       "  'CS',\n",
       "  'BB',\n",
       "  'SO',\n",
       "  'IBB',\n",
       "  'HBP',\n",
       "  'SH',\n",
       "  'SF',\n",
       "  'GIDP'],\n",
       " ['abercda01',\n",
       "  '1871',\n",
       "  '1',\n",
       "  'TRO',\n",
       "  'NA',\n",
       "  '1',\n",
       "  '4',\n",
       "  '0',\n",
       "  '0',\n",
       "  '0',\n",
       "  '0',\n",
       "  '0',\n",
       "  '0',\n",
       "  '0',\n",
       "  '0',\n",
       "  '0',\n",
       "  '0',\n",
       "  '',\n",
       "  '',\n",
       "  '',\n",
       "  '',\n",
       "  '0']]"
      ]
     },
     "execution_count": 10,
     "metadata": {},
     "output_type": "execute_result"
    }
   ],
   "source": [
    "import csv\n",
    "\n",
    "with open('./data/Batting.csv') as f:\n",
    "    reader = csv.reader(f)\n",
    "    split_lines = [line for line in reader]\n",
    "split_lines[:2]"
   ]
  },
  {
   "cell_type": "markdown",
   "metadata": {
    "slideshow": {
     "slide_type": "slide"
    }
   },
   "source": [
    "## Processing csv files with `csv.DictReader`\n",
    "\n",
    "* Stores each row as a `dict` of `col_name:value` pairs\n",
    "* No header needed,\n",
    "* defaults to `delimit = ','`"
   ]
  },
  {
   "cell_type": "code",
   "execution_count": 20,
   "metadata": {
    "scrolled": true
   },
   "outputs": [
    {
     "data": {
      "text/plain": [
       "[{'playerID': 'abercda01',\n",
       "  'yearID': '1871',\n",
       "  'stint': '1',\n",
       "  'teamID': 'TRO',\n",
       "  'lgID': 'NA',\n",
       "  'G': '1',\n",
       "  'AB': '4',\n",
       "  'R': '0',\n",
       "  'H': '0',\n",
       "  '2B': '0',\n",
       "  '3B': '0',\n",
       "  'HR': '0',\n",
       "  'RBI': '0',\n",
       "  'SB': '0',\n",
       "  'CS': '0',\n",
       "  'BB': '0',\n",
       "  'SO': '0',\n",
       "  'IBB': '',\n",
       "  'HBP': '',\n",
       "  'SH': '',\n",
       "  'SF': '',\n",
       "  'GIDP': '0'},\n",
       " {'playerID': 'addybo01',\n",
       "  'yearID': '1871',\n",
       "  'stint': '1',\n",
       "  'teamID': 'RC1',\n",
       "  'lgID': 'NA',\n",
       "  'G': '25',\n",
       "  'AB': '118',\n",
       "  'R': '30',\n",
       "  'H': '32',\n",
       "  '2B': '6',\n",
       "  '3B': '0',\n",
       "  'HR': '0',\n",
       "  'RBI': '13',\n",
       "  'SB': '8',\n",
       "  'CS': '1',\n",
       "  'BB': '4',\n",
       "  'SO': '0',\n",
       "  'IBB': '',\n",
       "  'HBP': '',\n",
       "  'SH': '',\n",
       "  'SF': '',\n",
       "  'GIDP': '0'}]"
      ]
     },
     "execution_count": 20,
     "metadata": {},
     "output_type": "execute_result"
    }
   ],
   "source": [
    "with open('./data/Batting.csv') as f:\n",
    "    dict_reader = csv.DictReader(f)\n",
    "    rows = [r for r in dict_reader]\n",
    "rows[:2]"
   ]
  },
  {
   "cell_type": "markdown",
   "metadata": {
    "slideshow": {
     "slide_type": "slide"
    }
   },
   "source": [
    "## Application - Working with unusual data\n",
    "\n",
    "* CSV with different number of commas.\n",
    "* Data tables with a fixed width."
   ]
  },
  {
   "cell_type": "markdown",
   "metadata": {},
   "source": [
    "### Example 1 - Different number of commas.\n",
    "\n",
    "Complete the following steps by following along with the instructor."
   ]
  },
  {
   "cell_type": "markdown",
   "metadata": {},
   "source": [
    "#### Step 1a - Read in the \"bad\" version of the Walmart data as lines and manually split."
   ]
  },
  {
   "cell_type": "code",
   "execution_count": 1,
   "metadata": {},
   "outputs": [
    {
     "data": {
      "text/plain": [
       "['ï»¿-114.005671,51.262567,Walmart Supercentre; #1050,,2881 Main St SW,Airdrie ,AB T4B 3G5,(403) 945-1295\\n',\n",
       " '-111.900542,50.577939,Walmart Supercentre; #3658,,917 3rd St W,Brooks ,AB T1R 1L5,(403) 793-2111\\n',\n",
       " '-114.039133,51.107253,Walmart Supercentre; #3013,,1110 57th Ave NE,Calgary ,(NOP),AB T2E 9B7,(403) 730-0990\\n',\n",
       " '-114.138488,51.040871,Walmart Supercentre; #3009,Gas,,1212 37 St SW,Calgary ,(NOP),AB T3C 1S3,(403) 242-2205\\n',\n",
       " '-114.028603,50.930551,Walmart; #1144,,1221 Canyon Meadows Dr SE,Calgary ,AB T2J 6G2,(403) 225-6638\\n',\n",
       " '-113.91159,51.04009,Walmart Supercentre; #1136,,255 E Hills Blvd SE,Calgary ,AB T2A 4X7,(403) 387-0850\\n',\n",
       " '-114.145518,51.1757,Walmart Supercentre; #1097,,35 Sage Hill Gate NW,Calgary ,AB T3R 0S4,(587) 230-8411\\n',\n",
       " '-113.989925,51.053615,Walmart Supercentre; #3012,,3800 Memorial Dr NE,Calgary ,(NOP),AB T2A 2K2,(403) 235-2352\\n',\n",
       " '-113.966699,50.930235,Walmart Supercentre; #3650,,4705 130th Ave,Calgary ,AB T2Z 4J2,(403) 726-0430\\n',\n",
       " '-114.142114,51.097447,Walmart; #3011,Gas,,5005 Northland Dr NW,Calgary ,(NOP),AB T2L 2K1,(403) 247-8585\\n']"
      ]
     },
     "execution_count": 1,
     "metadata": {},
     "output_type": "execute_result"
    }
   ],
   "source": [
    "# Your code here\n",
    "with open('./data/Walmart_United_States_&_Canada_bad.csv') as f:\n",
    "    lines = f.readlines()\n",
    "lines[:10]"
   ]
  },
  {
   "cell_type": "code",
   "execution_count": 2,
   "metadata": {
    "scrolled": true
   },
   "outputs": [
    {
     "data": {
      "text/plain": [
       "[['ï»¿-114.005671',\n",
       "  '51.262567',\n",
       "  'Walmart Supercentre; #1050',\n",
       "  '',\n",
       "  '2881 Main St SW',\n",
       "  'Airdrie ',\n",
       "  'AB T4B 3G5',\n",
       "  '(403) 945-1295\\n'],\n",
       " ['-111.900542',\n",
       "  '50.577939',\n",
       "  'Walmart Supercentre; #3658',\n",
       "  '',\n",
       "  '917 3rd St W',\n",
       "  'Brooks ',\n",
       "  'AB T1R 1L5',\n",
       "  '(403) 793-2111\\n'],\n",
       " ['-114.039133',\n",
       "  '51.107253',\n",
       "  'Walmart Supercentre; #3013',\n",
       "  '',\n",
       "  '1110 57th Ave NE',\n",
       "  'Calgary ',\n",
       "  '(NOP)',\n",
       "  'AB T2E 9B7',\n",
       "  '(403) 730-0990\\n'],\n",
       " ['-114.138488',\n",
       "  '51.040871',\n",
       "  'Walmart Supercentre; #3009',\n",
       "  'Gas',\n",
       "  '',\n",
       "  '1212 37 St SW',\n",
       "  'Calgary ',\n",
       "  '(NOP)',\n",
       "  'AB T3C 1S3',\n",
       "  '(403) 242-2205\\n'],\n",
       " ['-114.028603',\n",
       "  '50.930551',\n",
       "  'Walmart; #1144',\n",
       "  '',\n",
       "  '1221 Canyon Meadows Dr SE',\n",
       "  'Calgary ',\n",
       "  'AB T2J 6G2',\n",
       "  '(403) 225-6638\\n']]"
      ]
     },
     "execution_count": 2,
     "metadata": {},
     "output_type": "execute_result"
    }
   ],
   "source": [
    "split_lines = [line.split(',') for line in lines]\n",
    "split_lines[:5]"
   ]
  },
  {
   "cell_type": "markdown",
   "metadata": {},
   "source": [
    "##### Step 1b - Use the `csv.reader` to auto-split the lines."
   ]
  },
  {
   "cell_type": "code",
   "execution_count": 3,
   "metadata": {},
   "outputs": [
    {
     "data": {
      "text/plain": [
       "[['ï»¿-114.005671',\n",
       "  '51.262567',\n",
       "  'Walmart Supercentre; #1050',\n",
       "  '',\n",
       "  '2881 Main St SW',\n",
       "  'Airdrie ',\n",
       "  'AB T4B 3G5',\n",
       "  '(403) 945-1295'],\n",
       " ['-111.900542',\n",
       "  '50.577939',\n",
       "  'Walmart Supercentre; #3658',\n",
       "  '',\n",
       "  '917 3rd St W',\n",
       "  'Brooks ',\n",
       "  'AB T1R 1L5',\n",
       "  '(403) 793-2111']]"
      ]
     },
     "execution_count": 3,
     "metadata": {},
     "output_type": "execute_result"
    }
   ],
   "source": [
    "# Your code here\n",
    "import csv\n",
    "\n",
    "with open('./data/Walmart_United_States_&_Canada_bad.csv') as f:\n",
    "    reader = csv.reader(f)\n",
    "    split_lines = [line for line in reader]\n",
    "split_lines[:2]"
   ]
  },
  {
   "cell_type": "markdown",
   "metadata": {},
   "source": [
    "#### 2a - Use a list comprehension to explore the row length"
   ]
  },
  {
   "cell_type": "code",
   "execution_count": 5,
   "metadata": {},
   "outputs": [
    {
     "data": {
      "text/plain": [
       "[8, 8, 9, 10, 8, 8, 8, 9, 8, 10]"
      ]
     },
     "execution_count": 5,
     "metadata": {},
     "output_type": "execute_result"
    }
   ],
   "source": [
    "# Your code here\n",
    "row_lengths = [len(row) for row in split_lines]\n",
    "row_lengths[:10]"
   ]
  },
  {
   "cell_type": "markdown",
   "metadata": {},
   "source": [
    "#### 2b - Use a set comprehension to explore the row lengths."
   ]
  },
  {
   "cell_type": "code",
   "execution_count": 7,
   "metadata": {},
   "outputs": [
    {
     "data": {
      "text/plain": [
       "{8, 9, 10, 11, 12}"
      ]
     },
     "execution_count": 7,
     "metadata": {},
     "output_type": "execute_result"
    }
   ],
   "source": [
    "# Your code here\n",
    "unique_lengths = {len(row) for row in split_lines}\n",
    "unique_lengths"
   ]
  },
  {
   "cell_type": "markdown",
   "metadata": {},
   "source": [
    "#### 3 - Use a sequence of list comprehensions to split the rows into cases (e.g., use a filter)"
   ]
  },
  {
   "cell_type": "code",
   "execution_count": 34,
   "metadata": {},
   "outputs": [],
   "source": [
    "# Your code here\n"
   ]
  },
  {
   "cell_type": "markdown",
   "metadata": {},
   "source": [
    "#### Inspect a few rows of each type and report what you find.  Any common patterns?"
   ]
  },
  {
   "cell_type": "code",
   "execution_count": 35,
   "metadata": {},
   "outputs": [],
   "source": [
    "# Your code here"
   ]
  },
  {
   "cell_type": "markdown",
   "metadata": {},
   "source": [
    "> Your thoughts here"
   ]
  },
  {
   "cell_type": "markdown",
   "metadata": {},
   "source": [
    "## <font color=\"red\"> Exercise 2.2 - Fixed width data files. </font>\n",
    "\n",
    "The file `./data/1750.csv` was found in the NOAA website and contains all available information on all available weather station readings from 1790.  This file is an example of a data file that uses a fixed width format to store the data"
   ]
  },
  {
   "cell_type": "markdown",
   "metadata": {},
   "source": [
    "#### Step 1 - Read the raw lines into a list and inspect the first few lines."
   ]
  },
  {
   "cell_type": "code",
   "execution_count": 8,
   "metadata": {},
   "outputs": [
    {
     "data": {
      "text/plain": [
       "['ASN00002061,17500201,PRCP,56,,,a,\\n',\n",
       " 'ASN00003014,17500201,PRCP,0,,,a,\\n',\n",
       " 'ASN00003059,17500201,PRCP,0,,,a,\\n',\n",
       " 'ASN00003088,17500201,PRCP,0,,,a,\\n',\n",
       " 'ASN00009015,17500201,PRCP,0,,,a,\\n',\n",
       " 'ASN00009193,17500201,TMIN,187,,,a,\\n',\n",
       " 'ASN00009193,17500201,PRCP,0,,,a,\\n',\n",
       " 'ASN00009500,17500201,DATX,2,,,a,\\n',\n",
       " 'ASN00009500,17500201,MDTX,210,,,a,\\n',\n",
       " 'ASN00009592,17500201,DATX,4,,,a,\\n']"
      ]
     },
     "execution_count": 8,
     "metadata": {},
     "output_type": "execute_result"
    }
   ],
   "source": [
    "# Your code here\n",
    "with open('./data/1750.csv') as f:\n",
    "    lines = f.readlines()\n",
    "lines[:10]"
   ]
  },
  {
   "cell_type": "code",
   "execution_count": 10,
   "metadata": {},
   "outputs": [
    {
     "data": {
      "text/plain": [
       "[['ASN00002061', '17500201', 'PRCP', '56', '', '', 'a', '\\n'],\n",
       " ['ASN00003014', '17500201', 'PRCP', '0', '', '', 'a', '\\n'],\n",
       " ['ASN00003059', '17500201', 'PRCP', '0', '', '', 'a', '\\n'],\n",
       " ['ASN00003088', '17500201', 'PRCP', '0', '', '', 'a', '\\n'],\n",
       " ['ASN00009015', '17500201', 'PRCP', '0', '', '', 'a', '\\n'],\n",
       " ['ASN00009193', '17500201', 'TMIN', '187', '', '', 'a', '\\n'],\n",
       " ['ASN00009193', '17500201', 'PRCP', '0', '', '', 'a', '\\n'],\n",
       " ['ASN00009500', '17500201', 'DATX', '2', '', '', 'a', '\\n'],\n",
       " ['ASN00009500', '17500201', 'MDTX', '210', '', '', 'a', '\\n'],\n",
       " ['ASN00009592', '17500201', 'DATX', '4', '', '', 'a', '\\n'],\n",
       " ['ASN00009592', '17500201', 'MDTX', '278', '', '', 'a', '\\n'],\n",
       " ['ASN00009752', '17500201', 'DAPR', '4', '', '', 'a', '\\n'],\n",
       " ['ASN00009752', '17500201', 'DWPR', '4', '', '', 'a', '\\n'],\n",
       " ['ASN00009752', '17500201', 'MDPR', '8', '', '', 'a', '\\n'],\n",
       " ['ASN00009784', '17500201', 'DAPR', '3', '', '', 'a', '\\n'],\n",
       " ['ASN00009784', '17500201', 'DWPR', '3', '', '', 'a', '\\n'],\n",
       " ['ASN00009784', '17500201', 'MDPR', '30', '', '', 'a', '\\n'],\n",
       " ['ASN00010006', '17500201', 'PRCP', '0', '', '', 'a', '\\n'],\n",
       " ['ASN00010152', '17500201', 'PRCP', '0', '', '', 'a', '\\n'],\n",
       " ['ASN00010536', '17500201', 'DATX', '4', '', '', 'a', '\\n']]"
      ]
     },
     "execution_count": 10,
     "metadata": {},
     "output_type": "execute_result"
    }
   ],
   "source": [
    "split_lines = [line.split(',') for line in lines]\n",
    "split_lines[:20]"
   ]
  },
  {
   "cell_type": "markdown",
   "metadata": {},
   "source": [
    "#### Step 2 - Comment on the nature of the file."
   ]
  },
  {
   "cell_type": "markdown",
   "metadata": {},
   "source": [
    "> Your thoughts here"
   ]
  },
  {
   "cell_type": "markdown",
   "metadata": {},
   "source": [
    "#### Step 3 - Use a list comprehension that uses the string's split and trim methods to split each line into a row."
   ]
  },
  {
   "cell_type": "code",
   "execution_count": 15,
   "metadata": {},
   "outputs": [
    {
     "data": {
      "text/plain": [
       "['ASN00009193', '17500201', 'TMIN', '187', '', '', 'a', '']"
      ]
     },
     "execution_count": 15,
     "metadata": {},
     "output_type": "execute_result"
    }
   ],
   "source": [
    "# Your code here\n",
    "clean_rows = [line.strip().split(',') for line in lines]\n",
    "clean_rows[5]"
   ]
  },
  {
   "cell_type": "markdown",
   "metadata": {},
   "source": [
    "#### Step 4 - Determine the header labels.\n",
    "\n",
    "Use the `by_year` readme from [this NOAA website](https://www.ncei.noaa.gov/pub/data/ghcn/daily/) to determine the column names.  Save them in a list in the correct order."
   ]
  },
  {
   "cell_type": "code",
   "execution_count": 19,
   "metadata": {},
   "outputs": [],
   "source": [
    "# Your code here\n",
    "header = [\n",
    "    \"ID\",\n",
    "    \"DATE\",\n",
    "    \"ELEMENT\",\n",
    "    \"DATA_VALUE\",\n",
    "    \"M_FLAG\",\n",
    "    \"Q_FLAG\",\n",
    "    \"S_FLAG\",\n",
    "    \"OBS_TIME\"\n",
    "]"
   ]
  },
  {
   "cell_type": "markdown",
   "metadata": {},
   "source": [
    "#### Step 5 - Use `enumerate`, your header, and a `dict` comprehension to make a list of rows stored as a `dict`"
   ]
  },
  {
   "cell_type": "code",
   "execution_count": 22,
   "metadata": {},
   "outputs": [
    {
     "data": {
      "text/plain": [
       "{'ID': 'ASN00009193',\n",
       " 'DATE': '17500201',\n",
       " 'ELEMENT': 'TMIN',\n",
       " 'DATA_VALUE': '187',\n",
       " 'M_FLAG': '',\n",
       " 'Q_FLAG': '',\n",
       " 'S_FLAG': 'a',\n",
       " 'OBS_TIME': ''}"
      ]
     },
     "execution_count": 22,
     "metadata": {},
     "output_type": "execute_result"
    }
   ],
   "source": [
    "# Your code here\n",
    "dict_rows = [\n",
    "    {col_name: row[id] for id, col_name in enumerate(header)}\n",
    "    for row in clean_rows\n",
    "]\n",
    "dict_rows[5]"
   ]
  },
  {
   "cell_type": "markdown",
   "metadata": {},
   "source": [
    "#### Step 6 - Convert the list of `dict` rows to a `pl.DataFrame`"
   ]
  },
  {
   "cell_type": "code",
   "execution_count": 24,
   "metadata": {},
   "outputs": [
    {
     "data": {
      "text/html": [
       "<div><style>\n",
       ".dataframe > thead > tr,\n",
       ".dataframe > tbody > tr {\n",
       "  text-align: right;\n",
       "  white-space: pre-wrap;\n",
       "}\n",
       "</style>\n",
       "<small>shape: (5, 8)</small><table border=\"1\" class=\"dataframe\"><thead><tr><th>ID</th><th>DATE</th><th>ELEMENT</th><th>DATA_VALUE</th><th>M_FLAG</th><th>Q_FLAG</th><th>S_FLAG</th><th>OBS_TIME</th></tr><tr><td>str</td><td>str</td><td>str</td><td>str</td><td>str</td><td>str</td><td>str</td><td>str</td></tr></thead><tbody><tr><td>&quot;ASN00002061&quot;</td><td>&quot;17500201&quot;</td><td>&quot;PRCP&quot;</td><td>&quot;56&quot;</td><td>&quot;&quot;</td><td>&quot;&quot;</td><td>&quot;a&quot;</td><td>&quot;&quot;</td></tr><tr><td>&quot;ASN00003014&quot;</td><td>&quot;17500201&quot;</td><td>&quot;PRCP&quot;</td><td>&quot;0&quot;</td><td>&quot;&quot;</td><td>&quot;&quot;</td><td>&quot;a&quot;</td><td>&quot;&quot;</td></tr><tr><td>&quot;ASN00003059&quot;</td><td>&quot;17500201&quot;</td><td>&quot;PRCP&quot;</td><td>&quot;0&quot;</td><td>&quot;&quot;</td><td>&quot;&quot;</td><td>&quot;a&quot;</td><td>&quot;&quot;</td></tr><tr><td>&quot;ASN00003088&quot;</td><td>&quot;17500201&quot;</td><td>&quot;PRCP&quot;</td><td>&quot;0&quot;</td><td>&quot;&quot;</td><td>&quot;&quot;</td><td>&quot;a&quot;</td><td>&quot;&quot;</td></tr><tr><td>&quot;ASN00009015&quot;</td><td>&quot;17500201&quot;</td><td>&quot;PRCP&quot;</td><td>&quot;0&quot;</td><td>&quot;&quot;</td><td>&quot;&quot;</td><td>&quot;a&quot;</td><td>&quot;&quot;</td></tr></tbody></table></div>"
      ],
      "text/plain": [
       "shape: (5, 8)\n",
       "┌─────────────┬──────────┬─────────┬────────────┬────────┬────────┬────────┬──────────┐\n",
       "│ ID          ┆ DATE     ┆ ELEMENT ┆ DATA_VALUE ┆ M_FLAG ┆ Q_FLAG ┆ S_FLAG ┆ OBS_TIME │\n",
       "│ ---         ┆ ---      ┆ ---     ┆ ---        ┆ ---    ┆ ---    ┆ ---    ┆ ---      │\n",
       "│ str         ┆ str      ┆ str     ┆ str        ┆ str    ┆ str    ┆ str    ┆ str      │\n",
       "╞═════════════╪══════════╪═════════╪════════════╪════════╪════════╪════════╪══════════╡\n",
       "│ ASN00002061 ┆ 17500201 ┆ PRCP    ┆ 56         ┆        ┆        ┆ a      ┆          │\n",
       "│ ASN00003014 ┆ 17500201 ┆ PRCP    ┆ 0          ┆        ┆        ┆ a      ┆          │\n",
       "│ ASN00003059 ┆ 17500201 ┆ PRCP    ┆ 0          ┆        ┆        ┆ a      ┆          │\n",
       "│ ASN00003088 ┆ 17500201 ┆ PRCP    ┆ 0          ┆        ┆        ┆ a      ┆          │\n",
       "│ ASN00009015 ┆ 17500201 ┆ PRCP    ┆ 0          ┆        ┆        ┆ a      ┆          │\n",
       "└─────────────┴──────────┴─────────┴────────────┴────────┴────────┴────────┴──────────┘"
      ]
     },
     "execution_count": 24,
     "metadata": {},
     "output_type": "execute_result"
    }
   ],
   "source": [
    "# Your code here\n",
    "import polars as pl\n",
    "df = pl.DataFrame(dict_rows)\n",
    "df.head(5)"
   ]
  }
 ],
 "metadata": {
  "anaconda-cloud": {},
  "kernelspec": {
   "display_name": "Python 3 (ipykernel)",
   "language": "python",
   "name": "python3"
  },
  "language_info": {
   "codemirror_mode": {
    "name": "ipython",
    "version": 3
   },
   "file_extension": ".py",
   "mimetype": "text/x-python",
   "name": "python",
   "nbconvert_exporter": "python",
   "pygments_lexer": "ipython3",
   "version": "3.12.3"
  }
 },
 "nbformat": 4,
 "nbformat_minor": 4
}
